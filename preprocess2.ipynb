{
 "cells": [
  {
   "cell_type": "code",
   "execution_count": 99,
   "id": "6d24ead9",
   "metadata": {},
   "outputs": [],
   "source": [
    "# %%\n",
    "# Preprocess the balanced synthetic risk dataset\n",
    "# - Data cleaning & clipping\n",
    "# - One-hot encoding: weather_condition\n",
    "# - Label encoding: risk_label (LOW→0, MODERATE→1, HIGH→2, CRITICAL→3)\n",
    "# - Train/test split\n",
    "# - Impute + scale numerics\n",
    "# - Save artifacts\n",
    "\n",
    "import os\n",
    "from typing import Dict, Tuple, List, Any\n",
    "\n",
    "import numpy as np\n",
    "import pandas as pd\n",
    "from sklearn.model_selection import train_test_split\n",
    "from sklearn.preprocessing import OneHotEncoder, StandardScaler\n",
    "from sklearn.compose import ColumnTransformer\n",
    "from sklearn.pipeline import Pipeline\n",
    "from sklearn.impute import SimpleImputer"
   ]
  },
  {
   "cell_type": "code",
   "execution_count": 100,
   "id": "112600ff",
   "metadata": {},
   "outputs": [],
   "source": [
    "# ---------- Paths ----------\n",
    "INPUT_CSV  = \"synthetic_risk_dataset_balanced_10k.csv\"  # change if needed"
   ]
  },
  {
   "cell_type": "code",
   "execution_count": 101,
   "id": "9b5a0b7a",
   "metadata": {},
   "outputs": [],
   "source": [
    "# ---------- Schema ----------\n",
    "NUMERIC_COLS: List[str] = [\n",
    "    \"hr_bpm\",\n",
    "    \"spo2_pct\",\n",
    "    \"skin_temp\",\n",
    "    \"bloodpressure_systolic\",\n",
    "    \"bp_diastolic\",\n",
    "    \"altitude\",\n",
    "    \"latitude\",\n",
    "    \"longitude\",\n",
    "    \"steps\",\n",
    "    \"past_incident_flag\",  # keep as numeric (0/1)\n",
    "]\n",
    "CAT_COL: str = \"weather_condition\"\n",
    "TARGET_COL: str = \"risk_label\""
   ]
  },
  {
   "cell_type": "code",
   "execution_count": 102,
   "id": "f6940971",
   "metadata": {},
   "outputs": [],
   "source": [
    "\n",
    "# Ordered mapping for labels\n",
    "RISK_ORDER: Dict[str, int] = {\n",
    "    \"LOW\": 0,\n",
    "    \"MODERATE\": 1,\n",
    "    \"HIGH\": 2,\n",
    "    \"CRITICAL\": 3,\n",
    "}"
   ]
  },
  {
   "cell_type": "code",
   "execution_count": 103,
   "id": "ceaac9c2",
   "metadata": {},
   "outputs": [],
   "source": [
    "# Sanity bounds for clipping\n",
    "BOUNDS: Dict[str, Tuple[float, float]] = {\n",
    "    \"hr_bpm\": (30, 220),\n",
    "    \"spo2_pct\": (60, 100),\n",
    "    \"skin_temp\": (30, 45),\n",
    "    \"bloodpressure_systolic\": (70, 250),\n",
    "    \"bp_diastolic\": (40, 150),\n",
    "    \"altitude\": (-430, 9000),\n",
    "    \"latitude\": (-90, 90),\n",
    "    \"longitude\": (-180, 180),\n",
    "    \"steps\": (0, 100000),\n",
    "    \"past_incident_flag\": (0, 1),\n",
    "}"
   ]
  },
  {
   "cell_type": "code",
   "execution_count": 104,
   "id": "170e3063",
   "metadata": {},
   "outputs": [],
   "source": [
    "# ---------- Cleaning helpers ----------\n",
    "def normalize_column_names(df: pd.DataFrame) -> pd.DataFrame:\n",
    "    out = df.copy()\n",
    "    out.columns = [c.strip() for c in out.columns]\n",
    "    return out\n",
    "\n",
    "def basic_type_cast(df: pd.DataFrame) -> pd.DataFrame:\n",
    "    out = df.copy()\n",
    "    for c in NUMERIC_COLS:\n",
    "        if c in out.columns:\n",
    "            out[c] = pd.to_numeric(out[c], errors=\"coerce\")\n",
    "    if CAT_COL in out.columns:\n",
    "        out[CAT_COL] = out[CAT_COL].astype(str).str.strip()\n",
    "    if TARGET_COL in out.columns:\n",
    "        out[TARGET_COL] = out[TARGET_COL].astype(str).str.strip().str.upper()\n",
    "    return out\n",
    "\n",
    "def clip_sanity_bounds(df: pd.DataFrame) -> pd.DataFrame:\n",
    "    out = df.copy()\n",
    "    for col, (lo, hi) in BOUNDS.items():\n",
    "        if col in out.columns:\n",
    "            out[col] = out[col].clip(lower=lo, upper=hi)\n",
    "    return out\n",
    "\n",
    "def norm_lab(x: Any) -> str:\n",
    "    s = str(x).strip().upper()\n",
    "    if s in {\"LOW\", \"NORMAL\", \"SAFE\"}: return \"LOW\"\n",
    "    if s in {\"MODERATE\", \"MEDIUM\"}:    return \"MODERATE\"\n",
    "    if s in {\"HIGH\", \"RISKY\"}:         return \"HIGH\"\n",
    "    if s in {\"CRITICAL\", \"SEVERE\", \"VERY HIGH\"}: return \"CRITICAL\"\n",
    "    return s"
   ]
  },
  {
   "cell_type": "code",
   "execution_count": 105,
   "id": "f949854b",
   "metadata": {},
   "outputs": [
    {
     "name": "stdout",
     "output_type": "stream",
     "text": [
      "   user_id  hr_bpm  spo2_pct  skin_temp  bloodpressure_systolic  bp_diastolic  \\\n",
      "0     6253     108      86.5       39.3                     158           115   \n",
      "1     4685     108      92.6       38.0                     124            88   \n",
      "2     1732      68     100.0       34.4                     118            92   \n",
      "3     4743      97      92.0       34.8                     134            89   \n",
      "4     4522      93      96.3       35.9                     145            82   \n",
      "\n",
      "   altitude  latitude  longitude  steps  past_incident_flag weather_condition  \\\n",
      "0      3522  28.41182   85.67296   1234                   0              Rain   \n",
      "1       528  28.97789   87.50397   5824                   0               Hot   \n",
      "2       543  26.51370   80.27189  10350                   0              Cold   \n",
      "3      2171  29.70053   85.87051   5980                   0              Rain   \n",
      "4      1330  28.55247   80.35179   6773                   0              Rain   \n",
      "\n",
      "  risk_label  \n",
      "0       HIGH  \n",
      "1   MODERATE  \n",
      "2        LOW  \n",
      "3   MODERATE  \n",
      "4   MODERATE  \n"
     ]
    }
   ],
   "source": [
    "# ---------- Load & clean ----------\n",
    "df = pd.read_csv(INPUT_CSV)\n",
    "df = normalize_column_names(df)\n",
    "df = basic_type_cast(df)\n",
    "df = df.drop_duplicates().reset_index(drop=True)\n",
    "df = clip_sanity_bounds(df)\n",
    "df[TARGET_COL] = df[TARGET_COL].map(norm_lab)\n",
    "print(df.head())"
   ]
  },
  {
   "cell_type": "code",
   "execution_count": 106,
   "id": "7d1f5e2c",
   "metadata": {},
   "outputs": [
    {
     "name": "stdout",
     "output_type": "stream",
     "text": [
      "Head after cleaning:\n"
     ]
    },
    {
     "data": {
      "text/html": [
       "<div>\n",
       "<style scoped>\n",
       "    .dataframe tbody tr th:only-of-type {\n",
       "        vertical-align: middle;\n",
       "    }\n",
       "\n",
       "    .dataframe tbody tr th {\n",
       "        vertical-align: top;\n",
       "    }\n",
       "\n",
       "    .dataframe thead th {\n",
       "        text-align: right;\n",
       "    }\n",
       "</style>\n",
       "<table border=\"1\" class=\"dataframe\">\n",
       "  <thead>\n",
       "    <tr style=\"text-align: right;\">\n",
       "      <th></th>\n",
       "      <th>user_id</th>\n",
       "      <th>hr_bpm</th>\n",
       "      <th>spo2_pct</th>\n",
       "      <th>skin_temp</th>\n",
       "      <th>bloodpressure_systolic</th>\n",
       "      <th>bp_diastolic</th>\n",
       "      <th>altitude</th>\n",
       "      <th>latitude</th>\n",
       "      <th>longitude</th>\n",
       "      <th>steps</th>\n",
       "      <th>past_incident_flag</th>\n",
       "      <th>weather_condition</th>\n",
       "      <th>risk_label</th>\n",
       "    </tr>\n",
       "  </thead>\n",
       "  <tbody>\n",
       "    <tr>\n",
       "      <th>0</th>\n",
       "      <td>6253</td>\n",
       "      <td>108</td>\n",
       "      <td>86.5</td>\n",
       "      <td>39.3</td>\n",
       "      <td>158</td>\n",
       "      <td>115</td>\n",
       "      <td>3522</td>\n",
       "      <td>28.41182</td>\n",
       "      <td>85.67296</td>\n",
       "      <td>1234</td>\n",
       "      <td>0</td>\n",
       "      <td>Rain</td>\n",
       "      <td>HIGH</td>\n",
       "    </tr>\n",
       "    <tr>\n",
       "      <th>1</th>\n",
       "      <td>4685</td>\n",
       "      <td>108</td>\n",
       "      <td>92.6</td>\n",
       "      <td>38.0</td>\n",
       "      <td>124</td>\n",
       "      <td>88</td>\n",
       "      <td>528</td>\n",
       "      <td>28.97789</td>\n",
       "      <td>87.50397</td>\n",
       "      <td>5824</td>\n",
       "      <td>0</td>\n",
       "      <td>Hot</td>\n",
       "      <td>MODERATE</td>\n",
       "    </tr>\n",
       "    <tr>\n",
       "      <th>2</th>\n",
       "      <td>1732</td>\n",
       "      <td>68</td>\n",
       "      <td>100.0</td>\n",
       "      <td>34.4</td>\n",
       "      <td>118</td>\n",
       "      <td>92</td>\n",
       "      <td>543</td>\n",
       "      <td>26.51370</td>\n",
       "      <td>80.27189</td>\n",
       "      <td>10350</td>\n",
       "      <td>0</td>\n",
       "      <td>Cold</td>\n",
       "      <td>LOW</td>\n",
       "    </tr>\n",
       "    <tr>\n",
       "      <th>3</th>\n",
       "      <td>4743</td>\n",
       "      <td>97</td>\n",
       "      <td>92.0</td>\n",
       "      <td>34.8</td>\n",
       "      <td>134</td>\n",
       "      <td>89</td>\n",
       "      <td>2171</td>\n",
       "      <td>29.70053</td>\n",
       "      <td>85.87051</td>\n",
       "      <td>5980</td>\n",
       "      <td>0</td>\n",
       "      <td>Rain</td>\n",
       "      <td>MODERATE</td>\n",
       "    </tr>\n",
       "    <tr>\n",
       "      <th>4</th>\n",
       "      <td>4522</td>\n",
       "      <td>93</td>\n",
       "      <td>96.3</td>\n",
       "      <td>35.9</td>\n",
       "      <td>145</td>\n",
       "      <td>82</td>\n",
       "      <td>1330</td>\n",
       "      <td>28.55247</td>\n",
       "      <td>80.35179</td>\n",
       "      <td>6773</td>\n",
       "      <td>0</td>\n",
       "      <td>Rain</td>\n",
       "      <td>MODERATE</td>\n",
       "    </tr>\n",
       "  </tbody>\n",
       "</table>\n",
       "</div>"
      ],
      "text/plain": [
       "   user_id  hr_bpm  spo2_pct  skin_temp  bloodpressure_systolic  bp_diastolic  \\\n",
       "0     6253     108      86.5       39.3                     158           115   \n",
       "1     4685     108      92.6       38.0                     124            88   \n",
       "2     1732      68     100.0       34.4                     118            92   \n",
       "3     4743      97      92.0       34.8                     134            89   \n",
       "4     4522      93      96.3       35.9                     145            82   \n",
       "\n",
       "   altitude  latitude  longitude  steps  past_incident_flag weather_condition  \\\n",
       "0      3522  28.41182   85.67296   1234                   0              Rain   \n",
       "1       528  28.97789   87.50397   5824                   0               Hot   \n",
       "2       543  26.51370   80.27189  10350                   0              Cold   \n",
       "3      2171  29.70053   85.87051   5980                   0              Rain   \n",
       "4      1330  28.55247   80.35179   6773                   0              Rain   \n",
       "\n",
       "  risk_label  \n",
       "0       HIGH  \n",
       "1   MODERATE  \n",
       "2        LOW  \n",
       "3   MODERATE  \n",
       "4   MODERATE  "
      ]
     },
     "metadata": {},
     "output_type": "display_data"
    },
    {
     "name": "stdout",
     "output_type": "stream",
     "text": [
      "NA counts:\n",
      "user_id                   0\n",
      "hr_bpm                    0\n",
      "spo2_pct                  0\n",
      "skin_temp                 0\n",
      "bloodpressure_systolic    0\n",
      "bp_diastolic              0\n",
      "altitude                  0\n",
      "latitude                  0\n",
      "longitude                 0\n",
      "steps                     0\n",
      "past_incident_flag        0\n",
      "weather_condition         0\n",
      "risk_label                0\n",
      "dtype: int64\n"
     ]
    }
   ],
   "source": [
    "# Remove rows with missing target after normalization\n",
    "df = df[~df[TARGET_COL].isna() & (df[TARGET_COL] != \"\")].reset_index(drop=True)\n",
    "\n",
    "print(\"Head after cleaning:\")\n",
    "display(df.head())\n",
    "print(\"NA counts:\")\n",
    "print(df.isna().sum())"
   ]
  },
  {
   "cell_type": "code",
   "execution_count": null,
   "id": "d9e29c73",
   "metadata": {},
   "outputs": [],
   "source": []
  },
  {
   "cell_type": "code",
   "execution_count": 107,
   "id": "4a01ebb7",
   "metadata": {},
   "outputs": [
    {
     "name": "stdout",
     "output_type": "stream",
     "text": [
      "\n",
      "Label counts (0=LOW,1=MODERATE,2=HIGH,3=CRITICAL):\n",
      "0    2500\n",
      "1    2500\n",
      "2    2500\n",
      "3    2500\n",
      "Name: count, dtype: int64\n"
     ]
    }
   ],
   "source": [
    "# ---------- Encode target (label encoding) ----------\n",
    "y = df[TARGET_COL].map(RISK_ORDER)\n",
    "valid = ~y.isna()\n",
    "df = df.loc[valid].reset_index(drop=True)\n",
    "y = y.loc[valid].astype(int).values\n",
    "\n",
    "print(\"\\nLabel counts (0=LOW,1=MODERATE,2=HIGH,3=CRITICAL):\")\n",
    "print(pd.Series(y).value_counts().sort_index())"
   ]
  },
  {
   "cell_type": "code",
   "execution_count": 108,
   "id": "f69c454d",
   "metadata": {},
   "outputs": [
    {
     "name": "stdout",
     "output_type": "stream",
     "text": [
      "   hr_bpm  spo2_pct  skin_temp  bloodpressure_systolic  bp_diastolic  \\\n",
      "0     108      86.5       39.3                     158           115   \n",
      "1     108      92.6       38.0                     124            88   \n",
      "2      68     100.0       34.4                     118            92   \n",
      "3      97      92.0       34.8                     134            89   \n",
      "4      93      96.3       35.9                     145            82   \n",
      "\n",
      "   altitude  latitude  longitude  steps  past_incident_flag weather_condition  \n",
      "0      3522  28.41182   85.67296   1234                   0              Rain  \n",
      "1       528  28.97789   87.50397   5824                   0               Hot  \n",
      "2       543  26.51370   80.27189  10350                   0              Cold  \n",
      "3      2171  29.70053   85.87051   5980                   0              Rain  \n",
      "4      1330  28.55247   80.35179   6773                   0              Rain  \n"
     ]
    }
   ],
   "source": [
    "\n",
    "# ---------- Feature matrix ----------\n",
    "X = df[NUMERIC_COLS + [CAT_COL]].copy()\n",
    "print(X.head())"
   ]
  },
  {
   "cell_type": "code",
   "execution_count": 109,
   "id": "01158822",
   "metadata": {},
   "outputs": [],
   "source": [
    "# ---------- Preprocessing pipeline ----------\n",
    "num_pipe = Pipeline(steps=[\n",
    "    (\"imputer\", SimpleImputer(strategy=\"median\")),\n",
    "    (\"scaler\", StandardScaler()),  # remove this step if you don't want scaling\n",
    "])\n",
    "\n",
    "cat_pipe = Pipeline(steps=[\n",
    "    (\"imputer\", SimpleImputer(strategy=\"most_frequent\")),\n",
    "    (\"onehot\", OneHotEncoder(handle_unknown=\"ignore\")),\n",
    "])\n",
    "\n",
    "pre = ColumnTransformer(\n",
    "    transformers=[\n",
    "        (\"num\", num_pipe, NUMERIC_COLS),\n",
    "        (\"cat\", cat_pipe, [CAT_COL]),\n",
    "    ],\n",
    "    remainder=\"drop\",\n",
    "    verbose_feature_names_out=False,\n",
    ")"
   ]
  },
  {
   "cell_type": "code",
   "execution_count": 110,
   "id": "ccd072ed",
   "metadata": {},
   "outputs": [
    {
     "name": "stdout",
     "output_type": "stream",
     "text": [
      "Shapes:\n",
      "  Train: (7000, 11), (7000,)\n",
      "  Val  : (1500, 11), (1500,)\n",
      "  Test : (1500, 11), (1500,)\n",
      "      hr_bpm  spo2_pct  skin_temp  bloodpressure_systolic  bp_diastolic  \\\n",
      "377       89      93.0       37.6                     136            78   \n",
      "6987     100      98.2       36.8                     130            89   \n",
      "8462      94      96.9       36.7                     145            87   \n",
      "9946      82     100.0       33.8                     135            70   \n",
      "1485     152      86.5       40.6                     170           125   \n",
      "\n",
      "      altitude  latitude  longitude  steps  past_incident_flag  \\\n",
      "377        651  29.79325   81.55139   4881                   0   \n",
      "6987      1951  27.67594   88.05201   6514                   0   \n",
      "8462      1549  27.05450   87.20646   5861                   0   \n",
      "9946       257  30.24298   87.66276   9299                   0   \n",
      "1485      3589  27.33248   88.16569   2329                   1   \n",
      "\n",
      "     weather_condition  \n",
      "377                Fog  \n",
      "6987              Rain  \n",
      "8462               Fog  \n",
      "9946             Windy  \n",
      "1485               Fog  \n"
     ]
    }
   ],
   "source": [
    "\n",
    "# First: split into train+temp (70%) and test (30%)\n",
    "X_train, X_temp, y_train, y_temp = train_test_split(\n",
    "    X, y, test_size=0.3, random_state=42, stratify=y\n",
    ")\n",
    "\n",
    "# Then: split temp into validation (15%) and test (15%)\n",
    "X_val, X_test, y_val, y_test = train_test_split(\n",
    "    X_temp, y_temp, test_size=0.5, random_state=42, stratify=y_temp\n",
    ")\n",
    "\n",
    "print(\"Shapes:\")\n",
    "print(f\"  Train: {X_train.shape}, {y_train.shape}\")\n",
    "print(f\"  Val  : {X_val.shape}, {y_val.shape}\")\n",
    "print(f\"  Test : {X_test.shape}, {y_test.shape}\")\n",
    "\n",
    "print(X_train.head())\n"
   ]
  },
  {
   "cell_type": "code",
   "execution_count": 111,
   "id": "6becc39c",
   "metadata": {},
   "outputs": [
    {
     "name": "stdout",
     "output_type": "stream",
     "text": [
      "Processed shapes:\n",
      "  X_train_proc: (7000, 18)\n",
      "  X_val_proc  : (1500, 18)\n",
      "  X_test_proc : (1500, 18)\n",
      "First 20 feature names: ['hr_bpm', 'spo2_pct', 'skin_temp', 'bloodpressure_systolic', 'bp_diastolic', 'altitude', 'latitude', 'longitude', 'steps', 'past_incident_flag', 'weather_condition_Clear', 'weather_condition_Cold', 'weather_condition_Fog', 'weather_condition_Hot', 'weather_condition_Rain', 'weather_condition_Snow', 'weather_condition_Storm', 'weather_condition_Windy']\n"
     ]
    }
   ],
   "source": [
    "# %%\n",
    "# === Fit preprocessor on training set and transform all ===\n",
    "\n",
    "X_train_proc = pre.fit_transform(X_train)\n",
    "X_val_proc   = pre.transform(X_val)\n",
    "X_test_proc  = pre.transform(X_test)\n",
    "\n",
    "print(\"Processed shapes:\")\n",
    "print(f\"  X_train_proc: {X_train_proc.shape}\")\n",
    "print(f\"  X_val_proc  : {X_val_proc.shape}\")\n",
    "print(f\"  X_test_proc : {X_test_proc.shape}\")\n",
    "\n",
    "# Get feature names\n",
    "try:\n",
    "    feature_names = pre.get_feature_names_out()\n",
    "except Exception:\n",
    "    feature_names = None\n",
    "\n",
    "if feature_names is not None:\n",
    "    print(\"First 20 feature names:\", list(feature_names[:20]))\n",
    "    \n",
    "\n"
   ]
  },
  {
   "cell_type": "code",
   "execution_count": 112,
   "id": "2957d679",
   "metadata": {},
   "outputs": [
    {
     "name": "stdout",
     "output_type": "stream",
     "text": [
      "[[-6.20035573e-01  3.94192207e-01  3.41630285e-01 -4.55226972e-01\n",
      "  -9.24055194e-01 -1.07762643e+00  1.13255925e+00 -1.08137048e+00\n",
      "  -5.36618355e-02 -6.23609564e-01  0.00000000e+00  0.00000000e+00\n",
      "   1.00000000e+00  0.00000000e+00  0.00000000e+00  0.00000000e+00\n",
      "   0.00000000e+00  0.00000000e+00]\n",
      " [-2.47688304e-01  1.30070752e+00 -5.49932493e-04 -6.68836331e-01\n",
      "  -2.80905896e-01 -2.63249290e-01 -5.98845894e-01  1.63834939e+00\n",
      "   4.06608291e-01 -6.23609564e-01  0.00000000e+00  0.00000000e+00\n",
      "   0.00000000e+00  0.00000000e+00  1.00000000e+00  0.00000000e+00\n",
      "   0.00000000e+00  0.00000000e+00]\n",
      " [-4.50786814e-01  1.07407869e+00 -4.33224597e-02 -1.34812935e-01\n",
      "  -3.97842132e-01 -5.15079760e-01 -1.10702108e+00  1.28458942e+00\n",
      "   2.22556611e-01 -6.23609564e-01  0.00000000e+00  0.00000000e+00\n",
      "   1.00000000e+00  0.00000000e+00  0.00000000e+00  0.00000000e+00\n",
      "   0.00000000e+00  0.00000000e+00]\n",
      " [-8.56983834e-01  1.61450128e+00 -1.28372575e+00 -4.90828532e-01\n",
      "  -1.39180014e+00 -1.32444535e+00  1.50032062e+00  1.47549554e+00\n",
      "   1.19157602e+00 -6.23609564e-01  0.00000000e+00  0.00000000e+00\n",
      "   0.00000000e+00  0.00000000e+00  0.00000000e+00  0.00000000e+00\n",
      "   0.00000000e+00  1.00000000e+00]\n",
      " [ 1.51249878e+00 -7.38951935e-01  1.62480610e+00  7.55226058e-01\n",
      "   1.82394635e+00  7.62865908e-01 -8.79706235e-01  1.68591066e+00\n",
      "  -7.72957220e-01  1.60356745e+00  0.00000000e+00  0.00000000e+00\n",
      "   1.00000000e+00  0.00000000e+00  0.00000000e+00  0.00000000e+00\n",
      "   0.00000000e+00  0.00000000e+00]]\n"
     ]
    }
   ],
   "source": [
    "print(X_train_proc[:5])"
   ]
  },
  {
   "cell_type": "code",
   "execution_count": 113,
   "id": "e54b909f",
   "metadata": {},
   "outputs": [],
   "source": [
    "import numpy as np\n",
    "import pandas as pd\n",
    "import tensorflow as tf\n",
    "from tensorflow.keras import layers, regularizers, callbacks, models\n",
    "\n",
    "# ---------- 1) Build a feature-weights vector to up-weight key features ----------\n",
    "# feature_names should come from pre.get_feature_names_out()\n",
    "# Expect numeric names as-is (hr_bpm, spo2_pct, ...) and categorical like 'weather_condition=Rain' or 'weather_condition_Rain'\n",
    "fn = np.array(feature_names)  # shape: (n_features,)\n",
    "n_features = fn.shape[0]\n",
    "\n",
    "feat_w = np.ones(n_features, dtype=\"float32\")\n",
    "\n",
    "def set_weight(col_name_substr, w=1.0):\n",
    "    idx = np.where(np.char.find(fn.astype(str), col_name_substr) >= 0)[0]\n",
    "    if idx.size > 0:\n",
    "        feat_w[idx] = w\n",
    "\n",
    "# Key vitals → higher weights\n",
    "set_weight(\"hr_bpm\", 1.8)\n",
    "set_weight(\"spo2_pct\", 2.0)\n",
    "set_weight(\"bloodpressure_systolic\", 1.6)\n",
    "set_weight(\"bp_diastolic\", 1.6)\n",
    "set_weight(\"weather_condition_Storm\", 2.0)\n",
    "\n",
    "# All weather one-hot columns → moderate boost\n",
    "set_weight(f\"{CAT_COL}\", 1.3)   # matches any weather_condition* column\n",
    "\n",
    "# (Optional) cap weights\n",
    "feat_w = np.clip(feat_w, 1.0, 2.0).astype(\"float32\")\n"
   ]
  },
  {
   "cell_type": "code",
   "execution_count": 114,
   "id": "a9845a5f",
   "metadata": {},
   "outputs": [
    {
     "data": {
      "text/html": [
       "<pre style=\"white-space:pre;overflow-x:auto;line-height:normal;font-family:Menlo,'DejaVu Sans Mono',consolas,'Courier New',monospace\"><span style=\"font-weight: bold\">Model: \"functional_4\"</span>\n",
       "</pre>\n"
      ],
      "text/plain": [
       "\u001b[1mModel: \"functional_4\"\u001b[0m\n"
      ]
     },
     "metadata": {},
     "output_type": "display_data"
    },
    {
     "data": {
      "text/html": [
       "<pre style=\"white-space:pre;overflow-x:auto;line-height:normal;font-family:Menlo,'DejaVu Sans Mono',consolas,'Courier New',monospace\">┏━━━━━━━━━━━━━━━━━━━━━━━━━━━━━━━━━┳━━━━━━━━━━━━━━━━━━━━━━━━┳━━━━━━━━━━━━━━━┓\n",
       "┃<span style=\"font-weight: bold\"> Layer (type)                    </span>┃<span style=\"font-weight: bold\"> Output Shape           </span>┃<span style=\"font-weight: bold\">       Param # </span>┃\n",
       "┡━━━━━━━━━━━━━━━━━━━━━━━━━━━━━━━━━╇━━━━━━━━━━━━━━━━━━━━━━━━╇━━━━━━━━━━━━━━━┩\n",
       "│ input (<span style=\"color: #0087ff; text-decoration-color: #0087ff\">InputLayer</span>)              │ (<span style=\"color: #00d7ff; text-decoration-color: #00d7ff\">None</span>, <span style=\"color: #00af00; text-decoration-color: #00af00\">18</span>)             │             <span style=\"color: #00af00; text-decoration-color: #00af00\">0</span> │\n",
       "├─────────────────────────────────┼────────────────────────┼───────────────┤\n",
       "│ feature_weighting (<span style=\"color: #0087ff; text-decoration-color: #0087ff\">Lambda</span>)      │ (<span style=\"color: #00d7ff; text-decoration-color: #00d7ff\">None</span>, <span style=\"color: #00af00; text-decoration-color: #00af00\">18</span>)             │             <span style=\"color: #00af00; text-decoration-color: #00af00\">0</span> │\n",
       "├─────────────────────────────────┼────────────────────────┼───────────────┤\n",
       "│ batch_normalization_4           │ (<span style=\"color: #00d7ff; text-decoration-color: #00d7ff\">None</span>, <span style=\"color: #00af00; text-decoration-color: #00af00\">18</span>)             │            <span style=\"color: #00af00; text-decoration-color: #00af00\">72</span> │\n",
       "│ (<span style=\"color: #0087ff; text-decoration-color: #0087ff\">BatchNormalization</span>)            │                        │               │\n",
       "├─────────────────────────────────┼────────────────────────┼───────────────┤\n",
       "│ dense_12 (<span style=\"color: #0087ff; text-decoration-color: #0087ff\">Dense</span>)                │ (<span style=\"color: #00d7ff; text-decoration-color: #00d7ff\">None</span>, <span style=\"color: #00af00; text-decoration-color: #00af00\">128</span>)            │         <span style=\"color: #00af00; text-decoration-color: #00af00\">2,432</span> │\n",
       "├─────────────────────────────────┼────────────────────────┼───────────────┤\n",
       "│ dropout_12 (<span style=\"color: #0087ff; text-decoration-color: #0087ff\">Dropout</span>)            │ (<span style=\"color: #00d7ff; text-decoration-color: #00d7ff\">None</span>, <span style=\"color: #00af00; text-decoration-color: #00af00\">128</span>)            │             <span style=\"color: #00af00; text-decoration-color: #00af00\">0</span> │\n",
       "├─────────────────────────────────┼────────────────────────┼───────────────┤\n",
       "│ dense_13 (<span style=\"color: #0087ff; text-decoration-color: #0087ff\">Dense</span>)                │ (<span style=\"color: #00d7ff; text-decoration-color: #00d7ff\">None</span>, <span style=\"color: #00af00; text-decoration-color: #00af00\">64</span>)             │         <span style=\"color: #00af00; text-decoration-color: #00af00\">8,256</span> │\n",
       "├─────────────────────────────────┼────────────────────────┼───────────────┤\n",
       "│ dropout_13 (<span style=\"color: #0087ff; text-decoration-color: #0087ff\">Dropout</span>)            │ (<span style=\"color: #00d7ff; text-decoration-color: #00d7ff\">None</span>, <span style=\"color: #00af00; text-decoration-color: #00af00\">64</span>)             │             <span style=\"color: #00af00; text-decoration-color: #00af00\">0</span> │\n",
       "├─────────────────────────────────┼────────────────────────┼───────────────┤\n",
       "│ dense_14 (<span style=\"color: #0087ff; text-decoration-color: #0087ff\">Dense</span>)                │ (<span style=\"color: #00d7ff; text-decoration-color: #00d7ff\">None</span>, <span style=\"color: #00af00; text-decoration-color: #00af00\">32</span>)             │         <span style=\"color: #00af00; text-decoration-color: #00af00\">2,080</span> │\n",
       "├─────────────────────────────────┼────────────────────────┼───────────────┤\n",
       "│ dropout_14 (<span style=\"color: #0087ff; text-decoration-color: #0087ff\">Dropout</span>)            │ (<span style=\"color: #00d7ff; text-decoration-color: #00d7ff\">None</span>, <span style=\"color: #00af00; text-decoration-color: #00af00\">32</span>)             │             <span style=\"color: #00af00; text-decoration-color: #00af00\">0</span> │\n",
       "├─────────────────────────────────┼────────────────────────┼───────────────┤\n",
       "│ softmax (<span style=\"color: #0087ff; text-decoration-color: #0087ff\">Dense</span>)                 │ (<span style=\"color: #00d7ff; text-decoration-color: #00d7ff\">None</span>, <span style=\"color: #00af00; text-decoration-color: #00af00\">4</span>)              │           <span style=\"color: #00af00; text-decoration-color: #00af00\">132</span> │\n",
       "└─────────────────────────────────┴────────────────────────┴───────────────┘\n",
       "</pre>\n"
      ],
      "text/plain": [
       "┏━━━━━━━━━━━━━━━━━━━━━━━━━━━━━━━━━┳━━━━━━━━━━━━━━━━━━━━━━━━┳━━━━━━━━━━━━━━━┓\n",
       "┃\u001b[1m \u001b[0m\u001b[1mLayer (type)                   \u001b[0m\u001b[1m \u001b[0m┃\u001b[1m \u001b[0m\u001b[1mOutput Shape          \u001b[0m\u001b[1m \u001b[0m┃\u001b[1m \u001b[0m\u001b[1m      Param #\u001b[0m\u001b[1m \u001b[0m┃\n",
       "┡━━━━━━━━━━━━━━━━━━━━━━━━━━━━━━━━━╇━━━━━━━━━━━━━━━━━━━━━━━━╇━━━━━━━━━━━━━━━┩\n",
       "│ input (\u001b[38;5;33mInputLayer\u001b[0m)              │ (\u001b[38;5;45mNone\u001b[0m, \u001b[38;5;34m18\u001b[0m)             │             \u001b[38;5;34m0\u001b[0m │\n",
       "├─────────────────────────────────┼────────────────────────┼───────────────┤\n",
       "│ feature_weighting (\u001b[38;5;33mLambda\u001b[0m)      │ (\u001b[38;5;45mNone\u001b[0m, \u001b[38;5;34m18\u001b[0m)             │             \u001b[38;5;34m0\u001b[0m │\n",
       "├─────────────────────────────────┼────────────────────────┼───────────────┤\n",
       "│ batch_normalization_4           │ (\u001b[38;5;45mNone\u001b[0m, \u001b[38;5;34m18\u001b[0m)             │            \u001b[38;5;34m72\u001b[0m │\n",
       "│ (\u001b[38;5;33mBatchNormalization\u001b[0m)            │                        │               │\n",
       "├─────────────────────────────────┼────────────────────────┼───────────────┤\n",
       "│ dense_12 (\u001b[38;5;33mDense\u001b[0m)                │ (\u001b[38;5;45mNone\u001b[0m, \u001b[38;5;34m128\u001b[0m)            │         \u001b[38;5;34m2,432\u001b[0m │\n",
       "├─────────────────────────────────┼────────────────────────┼───────────────┤\n",
       "│ dropout_12 (\u001b[38;5;33mDropout\u001b[0m)            │ (\u001b[38;5;45mNone\u001b[0m, \u001b[38;5;34m128\u001b[0m)            │             \u001b[38;5;34m0\u001b[0m │\n",
       "├─────────────────────────────────┼────────────────────────┼───────────────┤\n",
       "│ dense_13 (\u001b[38;5;33mDense\u001b[0m)                │ (\u001b[38;5;45mNone\u001b[0m, \u001b[38;5;34m64\u001b[0m)             │         \u001b[38;5;34m8,256\u001b[0m │\n",
       "├─────────────────────────────────┼────────────────────────┼───────────────┤\n",
       "│ dropout_13 (\u001b[38;5;33mDropout\u001b[0m)            │ (\u001b[38;5;45mNone\u001b[0m, \u001b[38;5;34m64\u001b[0m)             │             \u001b[38;5;34m0\u001b[0m │\n",
       "├─────────────────────────────────┼────────────────────────┼───────────────┤\n",
       "│ dense_14 (\u001b[38;5;33mDense\u001b[0m)                │ (\u001b[38;5;45mNone\u001b[0m, \u001b[38;5;34m32\u001b[0m)             │         \u001b[38;5;34m2,080\u001b[0m │\n",
       "├─────────────────────────────────┼────────────────────────┼───────────────┤\n",
       "│ dropout_14 (\u001b[38;5;33mDropout\u001b[0m)            │ (\u001b[38;5;45mNone\u001b[0m, \u001b[38;5;34m32\u001b[0m)             │             \u001b[38;5;34m0\u001b[0m │\n",
       "├─────────────────────────────────┼────────────────────────┼───────────────┤\n",
       "│ softmax (\u001b[38;5;33mDense\u001b[0m)                 │ (\u001b[38;5;45mNone\u001b[0m, \u001b[38;5;34m4\u001b[0m)              │           \u001b[38;5;34m132\u001b[0m │\n",
       "└─────────────────────────────────┴────────────────────────┴───────────────┘\n"
      ]
     },
     "metadata": {},
     "output_type": "display_data"
    },
    {
     "data": {
      "text/html": [
       "<pre style=\"white-space:pre;overflow-x:auto;line-height:normal;font-family:Menlo,'DejaVu Sans Mono',consolas,'Courier New',monospace\"><span style=\"font-weight: bold\"> Total params: </span><span style=\"color: #00af00; text-decoration-color: #00af00\">12,972</span> (50.67 KB)\n",
       "</pre>\n"
      ],
      "text/plain": [
       "\u001b[1m Total params: \u001b[0m\u001b[38;5;34m12,972\u001b[0m (50.67 KB)\n"
      ]
     },
     "metadata": {},
     "output_type": "display_data"
    },
    {
     "data": {
      "text/html": [
       "<pre style=\"white-space:pre;overflow-x:auto;line-height:normal;font-family:Menlo,'DejaVu Sans Mono',consolas,'Courier New',monospace\"><span style=\"font-weight: bold\"> Trainable params: </span><span style=\"color: #00af00; text-decoration-color: #00af00\">12,936</span> (50.53 KB)\n",
       "</pre>\n"
      ],
      "text/plain": [
       "\u001b[1m Trainable params: \u001b[0m\u001b[38;5;34m12,936\u001b[0m (50.53 KB)\n"
      ]
     },
     "metadata": {},
     "output_type": "display_data"
    },
    {
     "data": {
      "text/html": [
       "<pre style=\"white-space:pre;overflow-x:auto;line-height:normal;font-family:Menlo,'DejaVu Sans Mono',consolas,'Courier New',monospace\"><span style=\"font-weight: bold\"> Non-trainable params: </span><span style=\"color: #00af00; text-decoration-color: #00af00\">36</span> (144.00 B)\n",
       "</pre>\n"
      ],
      "text/plain": [
       "\u001b[1m Non-trainable params: \u001b[0m\u001b[38;5;34m36\u001b[0m (144.00 B)\n"
      ]
     },
     "metadata": {},
     "output_type": "display_data"
    }
   ],
   "source": [
    "# ---------- 3) Define model (feature-weighting layer + regularized MLP) ----------\n",
    "tf.random.set_seed(42)\n",
    "\n",
    "inp = layers.Input(shape=(n_features,), name=\"input\")\n",
    "\n",
    "# Fixed feature-weighting: multiply inputs by clinical weights\n",
    "w_const = tf.constant(feat_w, dtype=tf.float32)\n",
    "x = layers.Lambda(lambda t: t * w_const, name=\"feature_weighting\")(inp)\n",
    "\n",
    "# Regularized MLP\n",
    "x = layers.BatchNormalization()(x)\n",
    "x = layers.Dense(128, activation=\"relu\", kernel_regularizer=regularizers.l2(1e-4))(x)\n",
    "x = layers.Dropout(0.35)(x)\n",
    "\n",
    "x = layers.Dense(64, activation=\"relu\", kernel_regularizer=regularizers.l2(1e-4))(x)\n",
    "x = layers.Dropout(0.35)(x)\n",
    "\n",
    "x = layers.Dense(32, activation=\"relu\", kernel_regularizer=regularizers.l2(1e-4))(x)\n",
    "x = layers.Dropout(0.25)(x)\n",
    "\n",
    "out = layers.Dense(4, activation=\"softmax\", name=\"softmax\")(x)\n",
    "\n",
    "model = models.Model(inp, out)\n",
    "model.compile(\n",
    "    optimizer=tf.keras.optimizers.Adam(learning_rate=1e-3),\n",
    "    loss=\"sparse_categorical_crossentropy\",\n",
    "    metrics=[\"accuracy\"]\n",
    ")\n",
    "\n",
    "model.summary()"
   ]
  },
  {
   "cell_type": "code",
   "execution_count": 115,
   "id": "8765e938",
   "metadata": {},
   "outputs": [],
   "source": [
    "# ---------- 4) Callbacks for generalization ----------\n",
    "cbs = [\n",
    "    callbacks.EarlyStopping(monitor=\"val_loss\", patience=12, restore_best_weights=True),\n",
    "    callbacks.ReduceLROnPlateau(monitor=\"val_loss\", factor=0.5, patience=5, min_lr=1e-5, verbose=1)\n",
    "]"
   ]
  },
  {
   "cell_type": "code",
   "execution_count": 116,
   "id": "fb93d5d9",
   "metadata": {},
   "outputs": [
    {
     "name": "stdout",
     "output_type": "stream",
     "text": [
      "Epoch 1/100\n",
      "\u001b[1m55/55\u001b[0m \u001b[32m━━━━━━━━━━━━━━━━━━━━\u001b[0m\u001b[37m\u001b[0m \u001b[1m3s\u001b[0m 11ms/step - accuracy: 0.5199 - loss: 3.5210 - val_accuracy: 0.8187 - val_loss: 0.3939 - learning_rate: 0.0010\n",
      "Epoch 2/100\n",
      "\u001b[1m55/55\u001b[0m \u001b[32m━━━━━━━━━━━━━━━━━━━━\u001b[0m\u001b[37m\u001b[0m \u001b[1m0s\u001b[0m 5ms/step - accuracy: 0.8488 - loss: 1.3041 - val_accuracy: 0.9453 - val_loss: 0.1773 - learning_rate: 0.0010\n",
      "Epoch 3/100\n",
      "\u001b[1m55/55\u001b[0m \u001b[32m━━━━━━━━━━━━━━━━━━━━\u001b[0m\u001b[37m\u001b[0m \u001b[1m0s\u001b[0m 5ms/step - accuracy: 0.9438 - loss: 0.6311 - val_accuracy: 0.9787 - val_loss: 0.0813 - learning_rate: 0.0010\n",
      "Epoch 4/100\n",
      "\u001b[1m55/55\u001b[0m \u001b[32m━━━━━━━━━━━━━━━━━━━━\u001b[0m\u001b[37m\u001b[0m \u001b[1m0s\u001b[0m 7ms/step - accuracy: 0.9624 - loss: 0.4144 - val_accuracy: 0.9913 - val_loss: 0.0467 - learning_rate: 0.0010\n",
      "Epoch 5/100\n",
      "\u001b[1m55/55\u001b[0m \u001b[32m━━━━━━━━━━━━━━━━━━━━\u001b[0m\u001b[37m\u001b[0m \u001b[1m0s\u001b[0m 4ms/step - accuracy: 0.9726 - loss: 0.3349 - val_accuracy: 0.9960 - val_loss: 0.0341 - learning_rate: 0.0010\n",
      "Epoch 6/100\n",
      "\u001b[1m55/55\u001b[0m \u001b[32m━━━━━━━━━━━━━━━━━━━━\u001b[0m\u001b[37m\u001b[0m \u001b[1m0s\u001b[0m 5ms/step - accuracy: 0.9812 - loss: 0.2430 - val_accuracy: 0.9967 - val_loss: 0.0280 - learning_rate: 0.0010\n",
      "Epoch 7/100\n",
      "\u001b[1m55/55\u001b[0m \u001b[32m━━━━━━━━━━━━━━━━━━━━\u001b[0m\u001b[37m\u001b[0m \u001b[1m0s\u001b[0m 6ms/step - accuracy: 0.9795 - loss: 0.2599 - val_accuracy: 0.9980 - val_loss: 0.0249 - learning_rate: 0.0010\n",
      "Epoch 8/100\n",
      "\u001b[1m55/55\u001b[0m \u001b[32m━━━━━━━━━━━━━━━━━━━━\u001b[0m\u001b[37m\u001b[0m \u001b[1m0s\u001b[0m 6ms/step - accuracy: 0.9810 - loss: 0.2194 - val_accuracy: 0.9980 - val_loss: 0.0250 - learning_rate: 0.0010\n",
      "Epoch 9/100\n",
      "\u001b[1m55/55\u001b[0m \u001b[32m━━━━━━━━━━━━━━━━━━━━\u001b[0m\u001b[37m\u001b[0m \u001b[1m0s\u001b[0m 5ms/step - accuracy: 0.9841 - loss: 0.1877 - val_accuracy: 0.9987 - val_loss: 0.0223 - learning_rate: 0.0010\n",
      "Epoch 10/100\n",
      "\u001b[1m55/55\u001b[0m \u001b[32m━━━━━━━━━━━━━━━━━━━━\u001b[0m\u001b[37m\u001b[0m \u001b[1m0s\u001b[0m 7ms/step - accuracy: 0.9848 - loss: 0.1917 - val_accuracy: 0.9980 - val_loss: 0.0246 - learning_rate: 0.0010\n",
      "Epoch 11/100\n",
      "\u001b[1m55/55\u001b[0m \u001b[32m━━━━━━━━━━━━━━━━━━━━\u001b[0m\u001b[37m\u001b[0m \u001b[1m0s\u001b[0m 5ms/step - accuracy: 0.9860 - loss: 0.1917 - val_accuracy: 0.9987 - val_loss: 0.0237 - learning_rate: 0.0010\n",
      "Epoch 12/100\n",
      "\u001b[1m55/55\u001b[0m \u001b[32m━━━━━━━━━━━━━━━━━━━━\u001b[0m\u001b[37m\u001b[0m \u001b[1m0s\u001b[0m 6ms/step - accuracy: 0.9880 - loss: 0.1378 - val_accuracy: 0.9987 - val_loss: 0.0236 - learning_rate: 0.0010\n",
      "Epoch 13/100\n",
      "\u001b[1m55/55\u001b[0m \u001b[32m━━━━━━━━━━━━━━━━━━━━\u001b[0m\u001b[37m\u001b[0m \u001b[1m0s\u001b[0m 6ms/step - accuracy: 0.9917 - loss: 0.1356 - val_accuracy: 0.9973 - val_loss: 0.0237 - learning_rate: 0.0010\n",
      "Epoch 14/100\n",
      "\u001b[1m55/55\u001b[0m \u001b[32m━━━━━━━━━━━━━━━━━━━━\u001b[0m\u001b[37m\u001b[0m \u001b[1m0s\u001b[0m 4ms/step - accuracy: 0.9894 - loss: 0.1351\n",
      "Epoch 14: ReduceLROnPlateau reducing learning rate to 0.0005000000237487257.\n",
      "\u001b[1m55/55\u001b[0m \u001b[32m━━━━━━━━━━━━━━━━━━━━\u001b[0m\u001b[37m\u001b[0m \u001b[1m0s\u001b[0m 6ms/step - accuracy: 0.9894 - loss: 0.1351 - val_accuracy: 0.9980 - val_loss: 0.0250 - learning_rate: 0.0010\n",
      "Epoch 15/100\n",
      "\u001b[1m55/55\u001b[0m \u001b[32m━━━━━━━━━━━━━━━━━━━━\u001b[0m\u001b[37m\u001b[0m \u001b[1m0s\u001b[0m 6ms/step - accuracy: 0.9882 - loss: 0.1661 - val_accuracy: 0.9980 - val_loss: 0.0238 - learning_rate: 5.0000e-04\n",
      "Epoch 16/100\n",
      "\u001b[1m55/55\u001b[0m \u001b[32m━━━━━━━━━━━━━━━━━━━━\u001b[0m\u001b[37m\u001b[0m \u001b[1m0s\u001b[0m 5ms/step - accuracy: 0.9917 - loss: 0.1103 - val_accuracy: 0.9987 - val_loss: 0.0235 - learning_rate: 5.0000e-04\n",
      "Epoch 17/100\n",
      "\u001b[1m55/55\u001b[0m \u001b[32m━━━━━━━━━━━━━━━━━━━━\u001b[0m\u001b[37m\u001b[0m \u001b[1m0s\u001b[0m 6ms/step - accuracy: 0.9903 - loss: 0.1204 - val_accuracy: 0.9980 - val_loss: 0.0244 - learning_rate: 5.0000e-04\n",
      "Epoch 18/100\n",
      "\u001b[1m55/55\u001b[0m \u001b[32m━━━━━━━━━━━━━━━━━━━━\u001b[0m\u001b[37m\u001b[0m \u001b[1m0s\u001b[0m 6ms/step - accuracy: 0.9880 - loss: 0.1375 - val_accuracy: 0.9987 - val_loss: 0.0241 - learning_rate: 5.0000e-04\n",
      "Epoch 19/100\n",
      "\u001b[1m41/55\u001b[0m \u001b[32m━━━━━━━━━━━━━━\u001b[0m\u001b[37m━━━━━━\u001b[0m \u001b[1m0s\u001b[0m 4ms/step - accuracy: 0.9934 - loss: 0.1000\n",
      "Epoch 19: ReduceLROnPlateau reducing learning rate to 0.0002500000118743628.\n",
      "\u001b[1m55/55\u001b[0m \u001b[32m━━━━━━━━━━━━━━━━━━━━\u001b[0m\u001b[37m\u001b[0m \u001b[1m0s\u001b[0m 5ms/step - accuracy: 0.9934 - loss: 0.1008 - val_accuracy: 0.9980 - val_loss: 0.0251 - learning_rate: 5.0000e-04\n",
      "Epoch 20/100\n",
      "\u001b[1m55/55\u001b[0m \u001b[32m━━━━━━━━━━━━━━━━━━━━\u001b[0m\u001b[37m\u001b[0m \u001b[1m0s\u001b[0m 5ms/step - accuracy: 0.9894 - loss: 0.1389 - val_accuracy: 0.9987 - val_loss: 0.0242 - learning_rate: 2.5000e-04\n",
      "Epoch 21/100\n",
      "\u001b[1m55/55\u001b[0m \u001b[32m━━━━━━━━━━━━━━━━━━━━\u001b[0m\u001b[37m\u001b[0m \u001b[1m0s\u001b[0m 7ms/step - accuracy: 0.9933 - loss: 0.1096 - val_accuracy: 0.9980 - val_loss: 0.0249 - learning_rate: 2.5000e-04\n"
     ]
    }
   ],
   "source": [
    "# ---------- 5) Train ----------\n",
    "fit_kwargs = dict(\n",
    "    x=X_train_proc,\n",
    "    y=y_train,\n",
    "    validation_data=(X_val_proc, y_val),\n",
    "    epochs=100,\n",
    "    batch_size=128,\n",
    "    callbacks=cbs,\n",
    "    verbose=1\n",
    ")\n",
    "\n",
    "if train_sample_weights is not None:\n",
    "    fit_kwargs[\"sample_weight\"] = train_sample_weights\n",
    "\n",
    "hist = model.fit(**fit_kwargs)"
   ]
  },
  {
   "cell_type": "code",
   "execution_count": 117,
   "id": "01c913be",
   "metadata": {},
   "outputs": [
    {
     "name": "stdout",
     "output_type": "stream",
     "text": [
      "Validation  Acc: 0.9987  |  Test Acc: 0.9993\n"
     ]
    }
   ],
   "source": [
    "# ---------- 6) Evaluate ----------\n",
    "val_loss, val_acc = model.evaluate(X_val_proc, y_val, verbose=0)\n",
    "test_loss, test_acc = model.evaluate(X_test_proc, y_test, verbose=0)\n",
    "print(f\"Validation  Acc: {val_acc:.4f}  |  Test Acc: {test_acc:.4f}\")\n"
   ]
  },
  {
   "cell_type": "code",
   "execution_count": 119,
   "id": "50f3ed03",
   "metadata": {},
   "outputs": [
    {
     "name": "stdout",
     "output_type": "stream",
     "text": [
      "\u001b[1m1/1\u001b[0m \u001b[32m━━━━━━━━━━━━━━━━━━━━\u001b[0m\u001b[37m\u001b[0m \u001b[1m0s\u001b[0m 29ms/step\n",
      "Predicted Risk Level: LOW\n",
      "\n",
      "Class probabilities:\n",
      "LOW       : 0.9999\n",
      "MODERATE  : 0.0001\n",
      "HIGH      : 0.0000\n",
      "CRITICAL  : 0.0000\n"
     ]
    }
   ],
   "source": [
    "import numpy as np\n",
    "import pandas as pd\n",
    "\n",
    "# Example: critical instance (you can replace this with your own)\n",
    "sample_critical = pd.DataFrame([{\n",
    "    \"hr_bpm\": 90,\n",
    "    \"spo2_pct\": 98.8,\n",
    "    \"skin_temp\": 33.7,\n",
    "    \"bloodpressure_systolic\": 120,\n",
    "    \"bp_diastolic\": 78,\n",
    "    \"altitude\": 300,\n",
    "    \"latitude\": 27.71,\n",
    "    \"longitude\": 85.33,\n",
    "    \"steps\": 10000,\n",
    "    \"past_incident_flag\": 1,\n",
    "    \"weather_condition\": \"Storm\"\n",
    "}])\n",
    "\n",
    "    \n",
    "# ✅ Transform through preprocessor (exact same as training)\n",
    "X_sample_proc = pre.transform(sample_critical)\n",
    "\n",
    "# 🔮 Predict class probabilities and label\n",
    "probs = model.predict(X_sample_proc)\n",
    "pred_class = np.argmax(probs, axis=1)[0]\n",
    "pred_label = [\"LOW\", \"MODERATE\", \"HIGH\", \"CRITICAL\"][pred_class]\n",
    "\n",
    "\n",
    "\n",
    "print(f\"Predicted Risk Level: {pred_label}\")\n",
    "print(\"\\nClass probabilities:\")\n",
    "for lab, p in zip([\"LOW\", \"MODERATE\", \"HIGH\", \"CRITICAL\"], probs[0]):\n",
    "    print(f\"{lab:10s}: {p:.4f}\")\n"
   ]
  }
 ],
 "metadata": {
  "kernelspec": {
   "display_name": "Python 3",
   "language": "python",
   "name": "python3"
  },
  "language_info": {
   "codemirror_mode": {
    "name": "ipython",
    "version": 3
   },
   "file_extension": ".py",
   "mimetype": "text/x-python",
   "name": "python",
   "nbconvert_exporter": "python",
   "pygments_lexer": "ipython3",
   "version": "3.10.0"
  }
 },
 "nbformat": 4,
 "nbformat_minor": 5
}
